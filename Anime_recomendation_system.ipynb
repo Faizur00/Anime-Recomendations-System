{
 "cells": [
  {
   "cell_type": "markdown",
   "id": "eb913633-f16d-4eb4-b0f6-f70ce8809cb5",
   "metadata": {},
   "source": [
    "# Anime Recommendation Systems"
   ]
  },
  {
   "cell_type": "markdown",
   "id": "6975c839-abdf-433f-87dc-e905e775ded4",
   "metadata": {},
   "source": [
    "Anime Recommendation systems, dataset that used: [Anime Recommendations Database](https://www.kaggle.com/datasets/CooperUnion/anime-recommendations-database/data)"
   ]
  },
  {
   "cell_type": "markdown",
   "id": "e1361b74-fa77-40fb-a5b1-db682b40237b",
   "metadata": {},
   "source": [
    "&nbsp;"
   ]
  },
  {
   "cell_type": "markdown",
   "id": "4bbb9dea-8a2e-4666-91a9-654f529baeee",
   "metadata": {},
   "source": [
    "## 1. Collaborative filtering\n",
    "Simple recomendations system based on collaborative filtering that can gives recomendations based on Anime that we watch"
   ]
  },
  {
   "cell_type": "markdown",
   "id": "1ef7a2aa-2611-498c-8a63-42875e7cb276",
   "metadata": {},
   "source": [
    "&nbsp;"
   ]
  },
  {
   "cell_type": "markdown",
   "id": "81853c9d-cf02-43a3-9ebe-f7847343ab38",
   "metadata": {},
   "source": [
    "**Import dependencies and load the data**"
   ]
  },
  {
   "cell_type": "code",
   "execution_count": 1,
   "id": "c8066bec-2f5d-493e-9295-38a2a20665e2",
   "metadata": {},
   "outputs": [
    {
     "name": "stdout",
     "output_type": "stream",
     "text": [
      "setup completed\n"
     ]
    }
   ],
   "source": [
    "import numpy as np\n",
    "import pandas as pd\n",
    "import sklearn\n",
    "import matplotlib.pyplot as plt\n",
    "import seaborn as sns\n",
    "\n",
    "print('setup completed')"
   ]
  },
  {
   "cell_type": "code",
   "execution_count": 2,
   "id": "1fad88a7-6a70-42c7-98d1-09b158cb2d0c",
   "metadata": {},
   "outputs": [],
   "source": [
    "anime_data = pd.read_csv('../datasets/anime_dataset/anime.csv')\n",
    "rating_data = pd.read_csv('../datasets/anime_dataset/rating.csv')"
   ]
  },
  {
   "cell_type": "markdown",
   "id": "fb7ffdd9-ae40-4e42-bc47-825e77d3ca06",
   "metadata": {},
   "source": [
    "&nbsp;"
   ]
  },
  {
   "cell_type": "code",
   "execution_count": 3,
   "id": "cc5d67c1-effc-4f16-bd91-79b28a3c0f75",
   "metadata": {},
   "outputs": [
    {
     "data": {
      "text/html": [
       "<div>\n",
       "<style scoped>\n",
       "    .dataframe tbody tr th:only-of-type {\n",
       "        vertical-align: middle;\n",
       "    }\n",
       "\n",
       "    .dataframe tbody tr th {\n",
       "        vertical-align: top;\n",
       "    }\n",
       "\n",
       "    .dataframe thead th {\n",
       "        text-align: right;\n",
       "    }\n",
       "</style>\n",
       "<table border=\"1\" class=\"dataframe\">\n",
       "  <thead>\n",
       "    <tr style=\"text-align: right;\">\n",
       "      <th></th>\n",
       "      <th>anime_id</th>\n",
       "      <th>name</th>\n",
       "      <th>genre</th>\n",
       "      <th>type</th>\n",
       "      <th>episodes</th>\n",
       "      <th>rating</th>\n",
       "      <th>members</th>\n",
       "    </tr>\n",
       "  </thead>\n",
       "  <tbody>\n",
       "    <tr>\n",
       "      <th>0</th>\n",
       "      <td>32281</td>\n",
       "      <td>Kimi no Na wa.</td>\n",
       "      <td>Drama, Romance, School, Supernatural</td>\n",
       "      <td>Movie</td>\n",
       "      <td>1</td>\n",
       "      <td>9.37</td>\n",
       "      <td>200630</td>\n",
       "    </tr>\n",
       "    <tr>\n",
       "      <th>1</th>\n",
       "      <td>5114</td>\n",
       "      <td>Fullmetal Alchemist: Brotherhood</td>\n",
       "      <td>Action, Adventure, Drama, Fantasy, Magic, Mili...</td>\n",
       "      <td>TV</td>\n",
       "      <td>64</td>\n",
       "      <td>9.26</td>\n",
       "      <td>793665</td>\n",
       "    </tr>\n",
       "    <tr>\n",
       "      <th>2</th>\n",
       "      <td>28977</td>\n",
       "      <td>Gintama°</td>\n",
       "      <td>Action, Comedy, Historical, Parody, Samurai, S...</td>\n",
       "      <td>TV</td>\n",
       "      <td>51</td>\n",
       "      <td>9.25</td>\n",
       "      <td>114262</td>\n",
       "    </tr>\n",
       "  </tbody>\n",
       "</table>\n",
       "</div>"
      ],
      "text/plain": [
       "   anime_id                              name  \\\n",
       "0     32281                    Kimi no Na wa.   \n",
       "1      5114  Fullmetal Alchemist: Brotherhood   \n",
       "2     28977                          Gintama°   \n",
       "\n",
       "                                               genre   type episodes  rating  \\\n",
       "0               Drama, Romance, School, Supernatural  Movie        1    9.37   \n",
       "1  Action, Adventure, Drama, Fantasy, Magic, Mili...     TV       64    9.26   \n",
       "2  Action, Comedy, Historical, Parody, Samurai, S...     TV       51    9.25   \n",
       "\n",
       "   members  \n",
       "0   200630  \n",
       "1   793665  \n",
       "2   114262  "
      ]
     },
     "execution_count": 3,
     "metadata": {},
     "output_type": "execute_result"
    }
   ],
   "source": [
    "anime_data.head(3)"
   ]
  },
  {
   "cell_type": "markdown",
   "id": "b42478bc-d339-4bd4-aeb9-225fc46e8586",
   "metadata": {},
   "source": [
    "&nbsp;"
   ]
  },
  {
   "cell_type": "code",
   "execution_count": 4,
   "id": "c0d7dc6e-a23f-4df9-b0f6-20a10444e211",
   "metadata": {},
   "outputs": [
    {
     "data": {
      "text/html": [
       "<div>\n",
       "<style scoped>\n",
       "    .dataframe tbody tr th:only-of-type {\n",
       "        vertical-align: middle;\n",
       "    }\n",
       "\n",
       "    .dataframe tbody tr th {\n",
       "        vertical-align: top;\n",
       "    }\n",
       "\n",
       "    .dataframe thead th {\n",
       "        text-align: right;\n",
       "    }\n",
       "</style>\n",
       "<table border=\"1\" class=\"dataframe\">\n",
       "  <thead>\n",
       "    <tr style=\"text-align: right;\">\n",
       "      <th></th>\n",
       "      <th>user_id</th>\n",
       "      <th>anime_id</th>\n",
       "      <th>rating</th>\n",
       "    </tr>\n",
       "  </thead>\n",
       "  <tbody>\n",
       "    <tr>\n",
       "      <th>0</th>\n",
       "      <td>1</td>\n",
       "      <td>20</td>\n",
       "      <td>-1</td>\n",
       "    </tr>\n",
       "    <tr>\n",
       "      <th>1</th>\n",
       "      <td>1</td>\n",
       "      <td>24</td>\n",
       "      <td>-1</td>\n",
       "    </tr>\n",
       "    <tr>\n",
       "      <th>2</th>\n",
       "      <td>1</td>\n",
       "      <td>79</td>\n",
       "      <td>-1</td>\n",
       "    </tr>\n",
       "  </tbody>\n",
       "</table>\n",
       "</div>"
      ],
      "text/plain": [
       "   user_id  anime_id  rating\n",
       "0        1        20      -1\n",
       "1        1        24      -1\n",
       "2        1        79      -1"
      ]
     },
     "execution_count": 4,
     "metadata": {},
     "output_type": "execute_result"
    }
   ],
   "source": [
    "rating_data.head(3)"
   ]
  },
  {
   "cell_type": "markdown",
   "id": "6b8a68f2-34bb-4da0-8641-84395174b760",
   "metadata": {},
   "source": [
    "_there is some -1 rating on the data, we should just drop it_"
   ]
  },
  {
   "cell_type": "markdown",
   "id": "98ec8a5f-ae06-440a-9a0b-8036150858b3",
   "metadata": {},
   "source": [
    "&nbsp;"
   ]
  },
  {
   "cell_type": "code",
   "execution_count": 5,
   "id": "a927ff7b-124a-46ce-b661-26d08d34a97f",
   "metadata": {},
   "outputs": [
    {
     "data": {
      "text/html": [
       "<div>\n",
       "<style scoped>\n",
       "    .dataframe tbody tr th:only-of-type {\n",
       "        vertical-align: middle;\n",
       "    }\n",
       "\n",
       "    .dataframe tbody tr th {\n",
       "        vertical-align: top;\n",
       "    }\n",
       "\n",
       "    .dataframe thead th {\n",
       "        text-align: right;\n",
       "    }\n",
       "</style>\n",
       "<table border=\"1\" class=\"dataframe\">\n",
       "  <thead>\n",
       "    <tr style=\"text-align: right;\">\n",
       "      <th></th>\n",
       "      <th>user_id</th>\n",
       "      <th>anime_id</th>\n",
       "      <th>rating</th>\n",
       "    </tr>\n",
       "  </thead>\n",
       "  <tbody>\n",
       "    <tr>\n",
       "      <th>47</th>\n",
       "      <td>1</td>\n",
       "      <td>8074</td>\n",
       "      <td>10</td>\n",
       "    </tr>\n",
       "    <tr>\n",
       "      <th>81</th>\n",
       "      <td>1</td>\n",
       "      <td>11617</td>\n",
       "      <td>10</td>\n",
       "    </tr>\n",
       "    <tr>\n",
       "      <th>83</th>\n",
       "      <td>1</td>\n",
       "      <td>11757</td>\n",
       "      <td>10</td>\n",
       "    </tr>\n",
       "  </tbody>\n",
       "</table>\n",
       "</div>"
      ],
      "text/plain": [
       "    user_id  anime_id  rating\n",
       "47        1      8074      10\n",
       "81        1     11617      10\n",
       "83        1     11757      10"
      ]
     },
     "execution_count": 5,
     "metadata": {},
     "output_type": "execute_result"
    }
   ],
   "source": [
    "rating_data = rating_data[rating_data['rating'] != -1]\n",
    "rating_data.head(3)"
   ]
  },
  {
   "cell_type": "markdown",
   "id": "dcd76296-2305-4d45-9684-89ea3e4fbf46",
   "metadata": {},
   "source": [
    "&nbsp;"
   ]
  },
  {
   "cell_type": "markdown",
   "id": "0186276c-ae4e-4386-9c78-b457f70451d5",
   "metadata": {},
   "source": [
    "**Examine the data**,\n",
    "lets do some basics exploratory"
   ]
  },
  {
   "cell_type": "code",
   "execution_count": 6,
   "id": "2c1d0b4a-2b8e-4f5f-86ab-412bffe7f837",
   "metadata": {},
   "outputs": [
    {
     "name": "stdout",
     "output_type": "stream",
     "text": [
      "Number of ratings: 6337241\n",
      "Number of anime: 9927\n",
      "Number of users: 69600\n",
      "\n",
      "Avg number of ratings per user: 91.05\n",
      "Avg number of ratings per anime: 638.38\n"
     ]
    }
   ],
   "source": [
    "# Calculate basic stats\n",
    "num_ratings = len(rating_data)\n",
    "num_anime = rating_data[\"anime_id\"].nunique()\n",
    "num_users = rating_data[\"user_id\"].nunique()\n",
    "\n",
    "# Calculate averages\n",
    "avg_ratings_per_user = round(num_ratings / num_users, 2)\n",
    "avg_ratings_per_anime = round(num_ratings / num_anime, 2)\n",
    "\n",
    "print(f\"Number of ratings: {num_ratings}\")\n",
    "print(f\"Number of anime: {num_anime}\")\n",
    "print(f\"Number of users: {num_users}\\n\")\n",
    "\n",
    "print(f\"Avg number of ratings per user: {avg_ratings_per_user}\")\n",
    "print(f\"Avg number of ratings per anime: {avg_ratings_per_anime}\")\n"
   ]
  },
  {
   "cell_type": "markdown",
   "id": "b3a8b616-b0f2-4917-bd2e-612e0f22cb98",
   "metadata": {},
   "source": [
    "_The dataset looks healthy, we can proceed to next step_"
   ]
  },
  {
   "cell_type": "markdown",
   "id": "cff62f4c-efb1-4a42-a5a7-78add4807999",
   "metadata": {},
   "source": [
    "&nbsp;"
   ]
  },
  {
   "cell_type": "code",
   "execution_count": null,
   "id": "6009d211-1c16-4836-9c4d-e2b9d7617d12",
   "metadata": {},
   "outputs": [],
   "source": []
  },
  {
   "cell_type": "code",
   "execution_count": 10,
   "id": "409cdf9c-4b66-4daf-94ba-08adbb081e34",
   "metadata": {},
   "outputs": [
    {
     "data": {
      "text/plain": [
       "Text(0.5, 1.0, 'Anime distribution')"
      ]
     },
     "execution_count": 10,
     "metadata": {},
     "output_type": "execute_result"
    },
    {
     "data": {
      "image/png": "[encoded data removed]",
      "text/plain": [
       "<Figure size 1400x500 with 1 Axes>"
      ]
     },
     "metadata": {},
     "output_type": "display_data"
    }
   ],
   "source": [
    "sns.set_style('whitegrid')\n",
    "plt.figure(figsize=(14,5))\n",
    "plt.subplot(1,2,1)\n",
    "axis = sns.countplot(x=\"rating\", data=rating_data, color = 'red')\n",
    "plt.title('Anime distribution')\n",
    "\n"
   ]
  },
  {
   "cell_type": "code",
   "execution_count": null,
   "id": "91a1d90f-8597-4be9-9826-a857c08601e6",
   "metadata": {},
   "outputs": [],
   "source": []
  }
 ],
 "metadata": {
  "kernelspec": {
   "display_name": "Python 3 (ipykernel)",
   "language": "python",
   "name": "python3"
  },
  "language_info": {
   "codemirror_mode": {
    "name": "ipython",
    "version": 3
   },
   "file_extension": ".py",
   "mimetype": "text/x-python",
   "name": "python",
   "nbconvert_exporter": "python",
   "pygments_lexer": "ipython3",
   "version": "3.10.12"
  }
 },
 "nbformat": 4,
 "nbformat_minor": 5
}
